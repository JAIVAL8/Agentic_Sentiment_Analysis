{
 "cells": [
  {
   "cell_type": "code",
   "execution_count": 7,
   "id": "dc982bf2",
   "metadata": {},
   "outputs": [
    {
     "data": {
      "text/plain": [
       "True"
      ]
     },
     "execution_count": 7,
     "metadata": {},
     "output_type": "execute_result"
    }
   ],
   "source": [
    "import os, json, re, getpass\n",
    "from dotenv import load_dotenv\n",
    "\n",
    "load_dotenv(override=True)"
   ]
  },
  {
   "cell_type": "code",
   "execution_count": 8,
   "id": "383922b3",
   "metadata": {},
   "outputs": [],
   "source": [
    "def _set_env(var: str):\n",
    "    if not os.environ.get(var):\n",
    "        os.environ[var] = getpass.getpass(f\"{var}: \")"
   ]
  },
  {
   "cell_type": "code",
   "execution_count": 9,
   "id": "f54bb5a3",
   "metadata": {},
   "outputs": [],
   "source": [
    "_set_env(\"OPENAI_API_KEY\")\n",
    "_set_env(\"TAVILY_API_KEY\")\n",
    "\n",
    "#Check for LangSmith tracing\n",
    "_set_env(\"LANGSMITH_TRACING\")\n",
    "_set_env(\"LANGSMITH_API_KEY\")\n",
    "\n",
    "os.environ[\"LANGCHAIN_PROJECT\"] = \"agents-testing\""
   ]
  },
  {
   "cell_type": "code",
   "execution_count": 10,
   "id": "ecc6a39c",
   "metadata": {},
   "outputs": [
    {
     "name": "stderr",
     "output_type": "stream",
     "text": [
      "USER_AGENT environment variable not set, consider setting it to identify your requests.\n"
     ]
    }
   ],
   "source": [
    "#LangChain libraries\n",
    "from langchain.chat_models import init_chat_model\n",
    "\n",
    "from langchain_community.document_loaders import WebBaseLoader\n",
    "from langchain_text_splitters import RecursiveCharacterTextSplitter\n",
    "from langchain_core.prompts import ChatPromptTemplate\n",
    "from langchain import hub\n",
    "from langchain_core.output_parsers import StrOutputParser\n",
    "from langchain_tavily import TavilySearch\n",
    "from langchain.schema import Document\n",
    "\n",
    "#Other libraries\n",
    "import numpy as np\n",
    "from typing import Literal, List\n",
    "from typing_extensions import TypedDict\n",
    "from pydantic import BaseModel, Field"
   ]
  },
  {
   "cell_type": "code",
   "execution_count": 11,
   "id": "3077f0be",
   "metadata": {},
   "outputs": [],
   "source": [
    "model_name_generate = \"gpt-4o-mini\"\n",
    "llm_generate = init_chat_model(model_name_generate, model_provider=\"openai\") "
   ]
  },
  {
   "cell_type": "code",
   "execution_count": 12,
   "id": "1f28c361",
   "metadata": {},
   "outputs": [],
   "source": [
    "web_search_tool = TavilySearch(max_results=10)"
   ]
  },
  {
   "cell_type": "code",
   "execution_count": 13,
   "id": "7a55863e",
   "metadata": {},
   "outputs": [
    {
     "name": "stdout",
     "output_type": "stream",
     "text": [
      "{\"videos\": [{\"id\": \"rX7lkKdowbU\", \"thumbnails\": [\"https://i.ytimg.com/vi/rX7lkKdowbU/hq720.jpg?sqp=-oaymwEjCOgCEMoBSFryq4qpAxUIARUAAAAAGAElAADIQj0AgKJDeAE=&rs=AOn4CLDZTy8ki07XOb_tPXca9AQW4grRyQ\", \"https://i.ytimg.com/vi/rX7lkKdowbU/hq720.jpg?sqp=-oaymwEXCNAFEJQDSFryq4qpAwkIARUAAIhCGAE=&rs=AOn4CLAdUet1NyPOYSqrTXW36Z-1IhieEQ\"], \"title\": \"\\ud83c\\udf00 Best BLDC Ceiling Fan in India 2024 | Atomberg vs Havells vs Crompton vs Orient - Top Picks!\", \"long_desc\": null, \"channel\": \"Brand Investigation\", \"duration\": \"8:53\", \"views\": \"271,176 views\", \"publish_time\": \"1 year ago\", \"url_suffix\": \"/watch?v=rX7lkKdowbU&pp=ygUSc21hcnQgZmFuIGluIGluZGlh0gcJCa0JAYcqIYzv\"}, {\"id\": \"MiTyuJcpXq4\", \"thumbnails\": [\"https://i.ytimg.com/vi/MiTyuJcpXq4/hq720.jpg?sqp=-oaymwEjCOgCEMoBSFryq4qpAxUIARUAAAAAGAElAADIQj0AgKJDeAE=&rs=AOn4CLDhVgLqxtmsgi0sexrjwQT4vjk_lg\", \"https://i.ytimg.com/vi/MiTyuJcpXq4/hq720.jpg?sqp=-oaymwEXCNAFEJQDSFryq4qpAwkIARUAAIhCGAE=&rs=AOn4CLA57zuOzKLdhs_orDCVTObwZP1OAw\"], \"title\": \"Crompton Energion Hyperjet Smart BLDC Fan \\u2013 Unboxing, Installation & Full Review \\u26a1\", \"long_desc\": null, \"channel\": \"Nabeel Nawab\", \"duration\": \"4:19\", \"views\": \"214,586 views\", \"publish_time\": \"4 weeks ago\", \"url_suffix\": \"/watch?v=MiTyuJcpXq4&pp=ygUSc21hcnQgZmFuIGluIGluZGlh\"}, {\"id\": \"g3uJjG1zxd0\", \"thumbnails\": [\"https://i.ytimg.com/vi/g3uJjG1zxd0/hq720.jpg?sqp=-oaymwE9COgCEMoBSFryq4qpAy8IARUAAAAAGAAlAADIQj0AgKJDeAHwAQH4AbYIgAKAD4oCDAgAEAEYZSBXKFQwDw==&rs=AOn4CLCL5edCdeeDQKELD0k8jv-1zTRv_w\", \"https://i.ytimg.com/vi/g3uJjG1zxd0/hq720.jpg?sqp=-oaymwExCNAFEJQDSFryq4qpAyMIARUAAIhCGADwAQH4AbYIgAKAD4oCDAgAEAEYZSBXKFQwDw==&rs=AOn4CLD2UHYmtEJjSB8pZvpGS-2FfyJtKQ\"], \"title\": \"Atomberg Renesa smart fan #shorts #youtubeshorts #smartgadgets #homeimprovement #amazonfinds\", \"long_desc\": null, \"channel\": \"Quirk Art for Home by Stuti\", \"duration\": \"0:09\", \"views\": \"1,252,300 views\", \"publish_time\": \"1 year ago\", \"url_suffix\": \"/shorts/g3uJjG1zxd0\"}, {\"id\": \"NDKD-B_i3mg\", \"thumbnails\": [\"https://i.ytimg.com/vi/NDKD-B_i3mg/hq720.jpg?sqp=-oaymwEjCOgCEMoBSFryq4qpAxUIARUAAAAAGAElAADIQj0AgKJDeAE=&rs=AOn4CLBFmGcM8IlbxMSWRoSHhmWNih2FIA\", \"https://i.ytimg.com/vi/NDKD-B_i3mg/hq720.jpg?sqp=-oaymwEXCNAFEJQDSFryq4qpAwkIARUAAIhCGAE=&rs=AOn4CLAC2eNGM9zrkz6t8lgOOycVgaRl_Q\"], \"title\": \"Best Ceiling Fans 2025 | BLDC Fans\", \"long_desc\": null, \"channel\": \"The Grapevine\", \"duration\": \"8:50\", \"views\": \"171,545 views\", \"publish_time\": \"4 months ago\", \"url_suffix\": \"/watch?v=NDKD-B_i3mg&pp=ygUSc21hcnQgZmFuIGluIGluZGlh\"}, {\"id\": \"x-hGuT5Gny0\", \"thumbnails\": [\"https://i.ytimg.com/vi/x-hGuT5Gny0/hq720.jpg?sqp=-oaymwE9COgCEMoBSFryq4qpAy8IARUAAAAAGAAlAADIQj0AgKJDeAHwAQH4AbYIgAKAD4oCDAgAEAEYWiBhKGUwDw==&rs=AOn4CLDCoz-O0NYqUvFTD-mqK71C2PdoBw\", \"https://i.ytimg.com/vi/x-hGuT5Gny0/hq720.jpg?sqp=-oaymwExCNAFEJQDSFryq4qpAyMIARUAAIhCGADwAQH4AbYIgAKAD4oCDAgAEAEYWiBhKGUwDw==&rs=AOn4CLB7gNLXy6P9a-RfP516SjE7QHP4rQ\"], \"title\": \"Save upto 50% Electricity with this smart ceiling Aerosense BLDC Pro fan\", \"long_desc\": null, \"channel\": \"Mr Techpedia\", \"duration\": \"1:13\", \"views\": \"81,426 views\", \"publish_time\": \"4 months ago\", \"url_suffix\": \"/shorts/x-hGuT5Gny0\"}]}\n"
     ]
    }
   ],
   "source": [
    "from youtube_search import YoutubeSearch\n",
    "\n",
    "results = YoutubeSearch(\"smart fan in india\", max_results=5).to_json()\n",
    "print(results)\n"
   ]
  },
  {
   "cell_type": "code",
   "execution_count": 14,
   "id": "15691613",
   "metadata": {},
   "outputs": [],
   "source": [
    "from youtube_transcript_api import YouTubeTranscriptApi\n",
    "from langchain.tools import tool\n",
    "\n",
    "@tool\n",
    "def get_transcript(video_url: str) -> str:\n",
    "    \"\"\"\n",
    "    Fetches the English transcript of a YouTube video using the updated API (fetch()).\n",
    "    Returns a plain text string with all transcript segments concatenated.\n",
    "    \"\"\"\n",
    "    try:\n",
    "        # Extract video ID (§ supports both URL formats)\n",
    "        if \"v=\" in video_url:\n",
    "            video_id = video_url.split(\"v=\")[-1].split(\"&\")[0]\n",
    "        elif \"youtu.be/\" in video_url:\n",
    "            video_id = video_url.split(\"youtu.be/\")[-1]\n",
    "        else:\n",
    "            return \"Invalid YouTube URL format.\"\n",
    "\n",
    "        ytt_api = YouTubeTranscriptApi()\n",
    "        transcript = ytt_api.fetch(video_id)  # Correct up-to-date method\n",
    "        # Combine transcript text\n",
    "        full_text = \" \".join([snippet.text for snippet in transcript])\n",
    "        return full_text\n",
    "\n",
    "    except Exception as e:\n",
    "        return f\"Error getting transcript: {e}\"\n"
   ]
  },
  {
   "cell_type": "code",
   "execution_count": 15,
   "id": "f88379c0",
   "metadata": {},
   "outputs": [
    {
     "data": {
      "text/plain": [
       "'Invalid YouTube URL format.'"
      ]
     },
     "execution_count": 15,
     "metadata": {},
     "output_type": "execute_result"
    }
   ],
   "source": [
    "get_transcript.run(\"https://www.youtube.com/shorts/SwRKYEhK8dI\")\n"
   ]
  },
  {
   "cell_type": "code",
   "execution_count": 16,
   "id": "332b31c2",
   "metadata": {},
   "outputs": [],
   "source": [
    "from itertools import islice\n",
    "from youtube_comment_downloader import YoutubeCommentDownloader, SORT_BY_POPULAR\n",
    "from langchain.tools import tool\n",
    "\n",
    "@tool\n",
    "def get_comments(video_url: str) -> str:\n",
    "    \"\"\"\n",
    "    Fetches the top 50 popular comments from a YouTube video.\n",
    "    Returns them as a newline-separated string.\n",
    "    \"\"\"\n",
    "    try:\n",
    "        # Extract video ID\n",
    "        if \"v=\" in video_url:\n",
    "            video_id = video_url.split(\"v=\")[-1].split(\"&\")[0]\n",
    "        elif \"youtu.be/\" in video_url:\n",
    "            video_id = video_url.split(\"youtu.be/\")[-1]\n",
    "        else:\n",
    "            return \"Invalid YouTube URL format.\"\n",
    "\n",
    "        downloader = YoutubeCommentDownloader()\n",
    "        comments_iter = downloader.get_comments_from_url(\n",
    "            f\"https://www.youtube.com/watch?v={video_id}\",\n",
    "            sort_by=SORT_BY_POPULAR\n",
    "        )\n",
    "\n",
    "        # Get first 50 comments\n",
    "        texts = [c.get('text', '').strip() for c in islice(comments_iter, 50) if c.get('text')]\n",
    "        if not texts:\n",
    "            return \"No comments found.\"\n",
    "\n",
    "        return \"\\n\\n\".join(texts)\n",
    "\n",
    "    except Exception as e:\n",
    "        return f\"Error fetching comments: {e}\"\n"
   ]
  },
  {
   "cell_type": "code",
   "execution_count": 17,
   "id": "338b0668",
   "metadata": {},
   "outputs": [
    {
     "data": {
      "text/plain": [
       "'Check to Buy in Amazon India✅\\r\\n\\r\\n✅𝐀𝐭𝐨𝐦𝐛𝐞𝐫𝐠 Renesa 1200mm BLDC Motor 5 Star Rated Sleek Ceiling Fans with Remote :\\r\\nhttps://amzn.to/3wHmYov\\r\\n\\r\\n✅𝐇𝐚𝐯𝐞𝐥𝐥𝐬 Ambrose Decorative BLDC 1200mm Energy Saving with Remote Control :\\r\\nhttps://amzn.to/3OW8l7h\\r\\n\\r\\n✅𝐂𝐫𝐨𝐦𝐩𝐭𝐨𝐧 Energion Cromair 1200mm High Speed 5S 28W BLDC Ceiling Fan with Remote :\\r\\nhttps://amzn.to/48A9XdZ\\r\\n\\r\\n✅𝐎𝐫𝐢𝐞𝐧𝐭 Electric 1200 mm I Tome Remote | BLDC ceiling fan :\\r\\nhttps://amzn.to/48vArNv\\n\\ndon\\'t buy fans from Flipkart . There replacement policy is very messy and they will not replace at any cost. I bought 8 fans and my 2 fans were defective and Flipkart refuses to replace my order\\n\\nThe mentioned KW is power consumption not the power......less KW means less power consumption and more savings on your electricity bill\\n\\nAtomberg is making noise. After frequent service , the noise is same. I think conventional fan are cheaper & good air supply.\\n\\nLast month I went Sowcarpet, Chennai to buy 3 BLDC fans. I asked for Orient or Crompton fans, but shop owner convince me to buy Atomberg. I ignored his suggestion and brought fans in another shop.\\nAtomberg built and performance quality is too bad. But paid promoters are feeding fake information in social media. Be aware.\\nCrompton fan introduced 35 watts convention fan, which will replace BLDC and performance also good.\\n\\nPurchased Havells Ambrose slim 6 months ago. My best purchase ever amog fans\\n\\nAtomberg dont have good air delivery as I am using last one year if you seat under the fan then only u will feel cooling\\n\\nThank u very much.  It\\'s very good comparison.\\n\\nAnd there is a brand who invented the technology - Superfan. It’s not even in the list. Atomberg started making issues while superfan with extensive usage still runs better without any issues\\n\\nHow come atomberg tops in every videos while most of the customers complains about many problems\\n\\nI am not convinced BLDc fan are energy saving my doubt is they are less air delivery and says energy saving.\\n\\nThank you so much for clearly explained and compared.. I was thinking to buy  ceiling fan.. It\\'s very useful.. As you said I always preferred branded items only due to life long usuage.. I like this video very much.. I subscribed your channel.. Keep on move..\\n\\nWithout the comparison with superfan, your presentation is incomplete.\\n\\nFirst supplier super fan. Super\\n\\nUseful information 👍\\n\\nHow come you neglected the Activa  BLDC fan brand by just showing negative comments.. I can show you a number of negative comments about all the four brands you mentioned. This is not your unbiased video. There is no problem doing sponsored branding but this is not the right way as you have shown in the video..people are not fool.\\n\\nvery informative 👍👍👍\\n\\nThank you for sharing ❤\\n\\nAtomberg renesa fan poor bearing one bearing makes too much noise upto speed 1to 4\\n\\npolycab is very good\\n\\nWhich conventional model from Crompton consumes 35 watts?\\n\\n@the_trader_way\\xa0 Could you please give your review on the fan\\n\\nI am confused between havella ambrose slim and orient i tome\\n\\nNoise & speed kesi he??\\n\\nsame  problem with havells\\n\\nI am Getting good Airflow no problem For me.Its the best fan forever❤❤❤\\n\\nYes copy is more popular than original. Fake id more valuable than real. 😢\\n\\nBest is conventional fan rock,long life  and sturdy for Indian power condition.\\n\\nI have been using  superfan in three bedrooms for the past 12 years without any issues, recently bought a n Atomberg fan and had to return it immediately due to humming noise and swaying.\\n\\n@shibujoseph1134\\xa0 which model you used ?\\n\\nPromotion that\\'s why atomberg is top\\n\\n@jai609\\xa0 Yes & also it is good on paper but not on ceiling\\n\\n@ringkhangbasumatary6930\\xa0 you just took the words out of my mouth\\n\\n@amanchaudhary4557\\xa0 funny thing before this comment was the disclaimer, \"No self Promotion\".\\nC is only applicable for the things in universe, but not for the universe itself huh?\\n\\nI purchased atomberg, it stopped working in two days so returned.\\n\\nI have atomgerg 600mm fan it makes humming noise on speed 2\\n\\nAnyone can recommend which is the best BLDC fan with less complaints\\n\\n@kabirsingh2529\\xa0 My Ikano model used to make dragging sound at no.2. I cal\\nled customer care and they fixed the problem by adding padding inside the cover of motor.\\n\\nSame doubt bro\\n\\nLast month I went Sowcarpet, Chennai to buy 3 BLDC fans. I asked for Orient or Crompton fans, but shop owner convince me to buy Atomberg. I ignored his suggestion and brought fans in another shop.\\nAtomberg built and performance quality is too bad. But paid promoters are feeding fake information in social media. Be aware.\\nCrompton fan introduced 35 watts convention fan, which will replace BLDC and performance also good...\\n\\nI am using atomberg rensa plus 4 fans in my house its been 4 years now .one of the fan stopped working I called the customer care they replaced my fan within 2 days no questions asked .and after that I trusted the service and also suggested my relatives . And in total in have bought more than 12 fans for my self and familyembers.\\nThe connectivity with Alexa is also great \\nLove atomberg.\\nNow make me the brand embarrassed for the atomberg ❤\\n\\nWhat complaint I\\'m using it for  years, no issues\\n\\nExactly\\n\\nShows lack of info or promotion. 😂\\n\\nI am using atomberg rensa plus 4 fans in my house its been 4 years now .one of the fan stopped working I called the customer care they replaced my fan within 2 days no questions asked .and after that I trusted the service and also suggested my relatives . And in total in have bought more than 12 fans for my self and familyembers.\\nThe connectivity with Alexa is also great \\nLove atomberg.\\nNow make me the brand embarrassed for the atomberg ❤\\n\\nWhy your voice is shaky ? Or voice module\\n\\nCrompton is the best fan I used it\\n\\nSubscribed! just becouse you said that you won\\'t recommend cheap and sponsor products..\\n\\nwhich fan got thicker fan blades after few days of usage fan blades go for toss fan rotates but no air\\n\\nYou have left out Coimbatore based  Super phone, the pioneer in BLDC fan technology'"
      ]
     },
     "execution_count": 17,
     "metadata": {},
     "output_type": "execute_result"
    }
   ],
   "source": [
    "get_comments.run(\"https://www.youtube.com/watch?v=rX7lkKdowbU&pp=ygUSc21hcnQgZmFuIGluIGluZGlh\")"
   ]
  },
  {
   "cell_type": "code",
   "execution_count": 18,
   "id": "7a551f02",
   "metadata": {},
   "outputs": [],
   "source": [
    "class GraphState(TypedDict):\n",
    "    \"\"\"\n",
    "    Represents the state of our graph.\n",
    "\n",
    "    Attributes:\n",
    "        question: question\n",
    "        google_search: gooogle search Data\n",
    "        twitter_search: Twitter search Data\n",
    "        youtube_search: Youtube search Data\n",
    "    \"\"\"\n",
    "\n",
    "    question: str\n",
    "    google_search: str\n",
    "    twitter_search: str\n",
    "    youtube_search: str\n",
    "    sov_analysis: str\n",
    "    generate: str\n",
    "    "
   ]
  },
  {
   "cell_type": "code",
   "execution_count": 19,
   "id": "392780c7",
   "metadata": {},
   "outputs": [
    {
     "ename": "NameError",
     "evalue": "name 'youtube_search' is not defined",
     "output_type": "error",
     "traceback": [
      "\u001b[31m---------------------------------------------------------------------------\u001b[39m",
      "\u001b[31mNameError\u001b[39m                                 Traceback (most recent call last)",
      "\u001b[36mCell\u001b[39m\u001b[36m \u001b[39m\u001b[32mIn[19]\u001b[39m\u001b[32m, line 1\u001b[39m\n\u001b[32m----> \u001b[39m\u001b[32m1\u001b[39m \u001b[43myoutube_search\u001b[49m(\u001b[38;5;28mstr\u001b[39m)\n",
      "\u001b[31mNameError\u001b[39m: name 'youtube_search' is not defined"
     ]
    }
   ],
   "source": [
    "youtube_search(str)"
   ]
  },
  {
   "cell_type": "code",
   "execution_count": null,
   "id": "75b07e5d",
   "metadata": {},
   "outputs": [],
   "source": [
    "\n",
    "def youtube_search(state):\n",
    "    \"\"\"\n",
    "    Retrieve youtube\n",
    "\n",
    "    Args:\n",
    "        state (dict): The current graph state\n",
    "\n",
    "    Returns:\n",
    "        state (dict): New key added to state, documents, that contains youtube info\n",
    "    \"\"\"\n",
    "    print(\"---retrieve_youtube---\")\n",
    "    question = state[\"question\"]\n",
    "\n",
    "    results = json.loads(YoutubeSearch(question, max_results=3).to_json())\n",
    "    #print(results)\n",
    "\n",
    "    video_summaries = []\n",
    "\n",
    "    for video in results[\"videos\"]:\n",
    "        title = video.get(\"title\")\n",
    "        channel = video.get(\"channel\")\n",
    "        duration = video.get(\"duration\")\n",
    "        views = video.get(\"views\")\n",
    "        publish_time = video.get(\"publish_time\")\n",
    "        url_suffix = video.get(\"url_suffix\")\n",
    "\n",
    "        full_url = f\"https://www.youtube.com{url_suffix}\"\n",
    "\n",
    "        summary = f\"\"\"\n",
    "                Title       : {title}\n",
    "                Channel     : {channel}\n",
    "                Duration    : {duration}\n",
    "                Views       : {views}\n",
    "                Published   : {publish_time}\n",
    "                Transcript  : {get_transcript.run(full_url)}\n",
    "                Comments    : {get_comments.run(full_url)}\n",
    "                {'-' * 80}\n",
    "                \"\"\"\n",
    "        video_summaries.append(summary.strip())\n",
    "\n",
    "    # Join all video summaries into a single string\n",
    "    all_summaries_str = \"\\n\\n\".join(video_summaries)\n",
    "\n",
    "\n",
    "    return {\"youtube_search\": all_summaries_str}"
   ]
  },
  {
   "cell_type": "code",
   "execution_count": null,
   "id": "df23fc36",
   "metadata": {},
   "outputs": [],
   "source": [
    "def web_search(state):\n",
    "    \"\"\"\n",
    "    Web search based on the re-phrased question.\n",
    "\n",
    "    Args:\n",
    "        state (dict): The current graph state\n",
    "\n",
    "    Returns:\n",
    "        state (dict): Updates documents key with appended web results\n",
    "    \"\"\"\n",
    "\n",
    "    print(\"---WEB SEARCH---\")\n",
    "    question = state[\"question\"]\n",
    "\n",
    "    # Web search\n",
    "    searched_docs = web_search_tool.invoke({\"query\": question})\n",
    "    # print(searched_docs) ## for debugging only\n",
    "    # web_results = \"\\n\".join([d[\"content\"] if searched_docs[\"results\"] else searched_docs for d in searched_docs[\"results\"]]) ## incase search doesn't return anything\n",
    "    web_results = \"\\n\".join([d[\"content\"] for d in searched_docs[\"results\"]])\n",
    "    # Twitter search\n",
    "    searched_docs = web_search_tool.invoke({\"query\": f\"{question} site:twitter.com\"})\n",
    "    twitter_results = \"\\n\".join([d[\"content\"] for d in searched_docs[\"results\"]])\n",
    "\n",
    "\n",
    "    return {\"google_search\": web_results,\"twitter_search\": twitter_results}"
   ]
  },
  {
   "cell_type": "code",
   "execution_count": null,
   "id": "b9fac7b8",
   "metadata": {},
   "outputs": [],
   "source": [
    "def "
   ]
  },
  {
   "cell_type": "code",
   "execution_count": null,
   "id": "59ec3c0e",
   "metadata": {},
   "outputs": [],
   "source": [
    "from langchain_core.prompts import ChatPromptTemplate\n",
    "from langchain.agents import create_react_agent, AgentExecutor\n",
    "from langchain.chat_models import ChatOpenAI\n",
    "\n",
    "\n",
    "prompt = ChatPromptTemplate.from_messages([\n",
    "    (\"system\", \n",
    "     \"\"\"You are an analytics agent.\n",
    "From the following search data (Google, Twitter, YouTube), compute the Share of Voice (SoV) for Atomberg vs competitors.\n",
    "\n",
    "Your output should follow this structure:\n",
    "Thought: what you want to do\n",
    "Action: the action to take (tool name)\n",
    "Action Input: the input to the action\n",
    "Observation: result from the tool\n",
    "... (repeat Thought → Action → Action Input → Observation as needed)\n",
    "Final Answer: \n",
    "1. Mentions of Atomberg vs competitors\n",
    "2. Engagement scores (where available)\n",
    "3. Sentiment share for Atomberg vs others\n",
    "4. Overall SoV %\n",
    "5. Conclusion\n",
    "\n",
    "Use structured markdown format.\n",
    "\n",
    "STOP after Final Answer.\n",
    "\"\"\"),\n",
    "    (\"human\", \"{input}\"),\n",
    "    (\"ai\", \"{tools}{tool_names}{agent_scratchpad}\")\n",
    "])\n",
    "\n",
    "agent = create_react_agent(llm=llm_generate, tools=[], prompt=prompt)\n",
    "sov_executor = AgentExecutor(agent=agent, tools=[], verbose=True,handle_parsing_errors=True)\n"
   ]
  },
  {
   "cell_type": "code",
   "execution_count": null,
   "id": "e2117dff",
   "metadata": {},
   "outputs": [],
   "source": [
    "from langchain_core.prompts import ChatPromptTemplate\n",
    "from langchain.agents import create_react_agent, AgentExecutor\n",
    "\n",
    "insight_prompt = ChatPromptTemplate.from_messages([\n",
    "    (\"system\", \n",
    "     \"\"\"You are a marketing strategist.\n",
    "\n",
    "Based on the provided Share of Voice report, your task is to:\n",
    "1. Extract 3-5 key insights from user behavior across Google, Twitter, and YouTube.\n",
    "2. Recommend 3-5 actionable marketing strategies for Atomberg to improve its Share of Voice and engagement.\n",
    "\n",
    "Your output should follow this structure:\n",
    "Thought: what you want to do\n",
    "Action: the action to take (tool name)\n",
    "Action Input: the input to the action\n",
    "Observation: result from the tool\n",
    "... (repeat Thought → Action → Action Input → Observation as needed)\n",
    "Final Answer:\n",
    "- Key Insights:\n",
    "  - ...\n",
    "  - ...\n",
    "- Marketing Recommendations:\n",
    "  - ...\n",
    "  - ...\n",
    "\n",
    "Use structured markdown format.\n",
    "\n",
    "STOP after Final Answer.\n",
    "\"\"\"),   \n",
    "    (\"ai\", \"{tools}\\n{tool_names}\\n{agent_scratchpad}\")\n",
    "])\n",
    "\n",
    "\n",
    "# Step 2: Create the agent\n",
    "insight_agent = create_react_agent(\n",
    "    llm=llm_generate,\n",
    "    prompt=insight_prompt,\n",
    "    tools=[]\n",
    ")\n",
    "\n",
    "# Step 3: Wrap it with an executor\n",
    "insight_executor = AgentExecutor(\n",
    "    agent=insight_agent,\n",
    "    tools=[],\n",
    "    verbose=True,\n",
    "    handle_parsing_errors=True\n",
    ")\n",
    "\n"
   ]
  },
  {
   "cell_type": "code",
   "execution_count": null,
   "id": "a3c0eca2",
   "metadata": {},
   "outputs": [],
   "source": [
    "from langgraph.graph import StateGraph\n",
    "\n",
    "def run_sov_agent(state):\n",
    "    # print(state[\"google_search\"])\n",
    "    # print(\"-------------------------\")\n",
    "\n",
    "    # print(state[\"twitter_search\"])\n",
    "    # print(\"-------------------------\")\n",
    "\n",
    "    # print(state[\"youtube_search\"])\n",
    "    print(\"Current state keys:\", state.keys())\n",
    "\n",
    "    input_string = f\"\"\"\n",
    "    Google:\n",
    "    {state['google_search']}\n",
    "\n",
    "    Twitter:\n",
    "    {state['twitter_search']}\n",
    "\n",
    "    YouTube:\n",
    "    {state['youtube_search']}\n",
    "    \"\"\"\n",
    "\n",
    "    response = sov_executor.invoke({\"input\": input_string})\n",
    "    return {\"sov_analysis\": response[\"output\"]}\n",
    "\n",
    "def run_insight_agent(state):\n",
    "    response = insight_executor.invoke({\n",
    "        \"report\": state[\"sov_analysis\"]\n",
    "    })\n",
    "    return {\"generate\": response[\"output\"]}\n",
    "\n",
    "\n"
   ]
  },
  {
   "cell_type": "code",
   "execution_count": null,
   "id": "4100746b",
   "metadata": {},
   "outputs": [],
   "source": [
    "builder = StateGraph(GraphState)\n",
    "\n",
    "builder.add_node(\"web_search\", web_search)\n",
    "builder.add_node(\"youtube_search\", youtube_search)\n",
    "builder.add_node(\"sov_analysis\", run_sov_agent)\n",
    "builder.add_node(\"generate_insights\", run_insight_agent)\n",
    "\n",
    "\n",
    "\n",
    "\n",
    "builder.set_entry_point(\"web_search\")\n",
    "builder.set_entry_point(\"youtube_search\")\n",
    "\n",
    "builder.add_edge(\"web_search\",\"sov_analysis\")\n",
    "builder.add_edge(\"youtube_search\",\"sov_analysis\")\n",
    "\n",
    "builder.add_edge(\"sov_analysis\", \"generate_insights\")\n",
    "builder.set_finish_point(\"generate_insights\")\n",
    "\n",
    "graph = builder.compile()\n"
   ]
  },
  {
   "cell_type": "code",
   "execution_count": null,
   "id": "e2dfe709",
   "metadata": {},
   "outputs": [
    {
     "data": {
      "image/png": "[encoded data removed]",
      "text/plain": [
       "<IPython.core.display.Image object>"
      ]
     },
     "metadata": {},
     "output_type": "display_data"
    }
   ],
   "source": [
    "from IPython.display import Image, display\n",
    "display(Image(graph.get_graph(xray=True).draw_mermaid_png()))"
   ]
  },
  {
   "cell_type": "code",
   "execution_count": null,
   "id": "efa716c9",
   "metadata": {},
   "outputs": [
    {
     "name": "stdout",
     "output_type": "stream",
     "text": [
      "---WEB SEARCH---\n",
      "---retrieve_youtube---\n",
      "Current state keys: dict_keys(['question', 'google_search', 'twitter_search', 'youtube_search'])\n",
      "\n",
      "\n",
      "\u001b[1m> Entering new AgentExecutor chain...\u001b[0m\n",
      "\u001b[32;1m\u001b[1;3m**Final Answer:**\n",
      "\n",
      "1. **Mentions of Atomberg vs Competitors:**\n",
      "   - **Atomberg:** Mentioned frequently for its features, performance, and energy efficiency.\n",
      "   - **Competitors (Crompton, Orient, Havells, Usha, Superfan):** Also mentioned extensively, with specific focus on their energy savings and customer complaints.\n",
      "\n",
      "2. **Engagement Scores:**\n",
      "   - **Atomberg YouTube Engagement:** Videos featuring Atomberg have combined views exceeding 1 million.\n",
      "   - **Competitors' Engagement:** Engagement scores not extensively available for competitors, but videos also attracting substantial views.\n",
      "\n",
      "3. **Sentiment Share for Atomberg vs Others:**\n",
      "   - **Positive Sentiment Towards Atomberg:** Notable for its connectivity features, energy savings, and customer service.\n",
      "   - **Negative Sentiment Towards Atomberg:** Complaints about noise levels and performance issues compared to competitors.\n",
      "   - **Competitors' Sentiment:** Crompton has received recognition for customer service and product quality.\n",
      "\n",
      "4. **Overall SoV %:**\n",
      "   - **Atomberg SoV:** 45%\n",
      "   - **Competitors SoV:** 55% (Crompton ~25%, Orient ~15%, Havells ~10%, other competitors ~5%)\n",
      "\n",
      "5. **Conclusion:**\n",
      "   - Atomberg leads with a significant share of voice due to its innovative technology and energy-saving features, but it faces stiff competition from other established brands like Crompton and Orient, which are recognized for their performance and customer satisfaction. The mixed sentiment, particularly regarding noise issues, suggests room for improvement in Atomberg's product offerings to maintain and enhance its market position.\u001b[0m\n",
      "\n",
      "\u001b[1m> Finished chain.\u001b[0m\n",
      "\n",
      "\n",
      "\u001b[1m> Entering new AgentExecutor chain...\u001b[0m\n",
      "\u001b[32;1m\u001b[1;3mFinal Answer:\n",
      "- Key Insights:\n",
      "  - Users are searching for energy-efficient home appliances predominantly on Google, indicating a high interest in eco-friendly products.\n",
      "  - On Twitter, engagement spikes occur around product launches and promotional offers, suggesting that timely and relevant content resonates well with the audience.\n",
      "  - YouTube video searches reveal a strong interest in how-to content related to product installation and maintenance, highlighting an opportunity for educational content.\n",
      "  - Conversations around Atomberg on Twitter frequently mention competitors, indicating a need for more comparative content that positions Atomberg favorably.\n",
      "  - User-generated content, like reviews and testimonials, is prevalent on YouTube, indicating the importance of leveraging influencer partnerships to enhance brand credibility.\n",
      "\n",
      "- Marketing Recommendations:\n",
      "  - Implement a Google Ads campaign focused on targeted keywords related to energy efficiency and eco-friendly home appliances to capture user interest effectively.\n",
      "  - Launch time-sensitive promotional campaigns on Twitter with engaging graphics and countdowns to boost immediate engagement and drive traffic to Atomberg’s products.\n",
      "  - Create a series of educational YouTube videos that cover product usage, maintenance, and energy savings, catering to user interest and increasing watch time on the channel.\n",
      "  - Develop comparison content that highlights Atomberg’s benefits against competitors, using infographics for easy sharing and engagement on social media.\n",
      "  - Partner with influencers in the home improvement and eco-friendly spaces to create and share genuine user-generated content to enhance trust and attract new customers.\u001b[0m\n",
      "\n",
      "\u001b[1m> Finished chain.\u001b[0m\n",
      "- Key Insights:\n",
      "  - Users are searching for energy-efficient home appliances predominantly on Google, indicating a high interest in eco-friendly products.\n",
      "  - On Twitter, engagement spikes occur around product launches and promotional offers, suggesting that timely and relevant content resonates well with the audience.\n",
      "  - YouTube video searches reveal a strong interest in how-to content related to product installation and maintenance, highlighting an opportunity for educational content.\n",
      "  - Conversations around Atomberg on Twitter frequently mention competitors, indicating a need for more comparative content that positions Atomberg favorably.\n",
      "  - User-generated content, like reviews and testimonials, is prevalent on YouTube, indicating the importance of leveraging influencer partnerships to enhance brand credibility.\n",
      "\n",
      "- Marketing Recommendations:\n",
      "  - Implement a Google Ads campaign focused on targeted keywords related to energy efficiency and eco-friendly home appliances to capture user interest effectively.\n",
      "  - Launch time-sensitive promotional campaigns on Twitter with engaging graphics and countdowns to boost immediate engagement and drive traffic to Atomberg’s products.\n",
      "  - Create a series of educational YouTube videos that cover product usage, maintenance, and energy savings, catering to user interest and increasing watch time on the channel.\n",
      "  - Develop comparison content that highlights Atomberg’s benefits against competitors, using infographics for easy sharing and engagement on social media.\n",
      "  - Partner with influencers in the home improvement and eco-friendly spaces to create and share genuine user-generated content to enhance trust and attract new customers.\n"
     ]
    }
   ],
   "source": [
    "initial_state = {\n",
    "    \"question\": \"Smart Fans in india\"\n",
    "}\n",
    "final_result = graph.invoke(initial_state)\n",
    "print(final_result[\"generate\"])"
   ]
  }
 ],
 "metadata": {
  "kernelspec": {
   "display_name": ".venv",
   "language": "python",
   "name": "python3"
  },
  "language_info": {
   "codemirror_mode": {
    "name": "ipython",
    "version": 3
   },
   "file_extension": ".py",
   "mimetype": "text/x-python",
   "name": "python",
   "nbconvert_exporter": "python",
   "pygments_lexer": "ipython3",
   "version": "3.11.3"
  }
 },
 "nbformat": 4,
 "nbformat_minor": 5
}
